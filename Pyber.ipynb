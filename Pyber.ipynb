{
 "cells": [
  {
   "cell_type": "code",
   "execution_count": 5,
   "metadata": {
    "collapsed": true
   },
   "outputs": [],
   "source": [
    "#Dependencies\n",
    "import csv\n",
    "import numpy as np\n",
    "import pandas as pd\n",
    "import matplotlib.pyplot as plt\n",
    "import seaborn as sns"
   ]
  },
  {
   "cell_type": "code",
   "execution_count": 3,
   "metadata": {},
   "outputs": [],
   "source": [
    "# Fetching the csv files and loading them in data frames\n",
    "file_one = \"/Users/gagankaur/Desktop/HW Assignments/Pyber/city_data.csv\"\n",
    "city_df = pd.read_csv(file_one)\n",
    "file_two = \"/Users/gagankaur/Desktop/HW Assignments/Pyber/ride_data.csv\"\n",
    "ride_df = pd.read_csv(file_two)"
   ]
  },
  {
   "cell_type": "code",
   "execution_count": 4,
   "metadata": {
    "collapsed": true
   },
   "outputs": [],
   "source": [
    "# Merge the two file on the common column 'city'\n",
    "merged = pd.merge(city_df, ride_df, on = ['city'])"
   ]
  },
  {
   "cell_type": "code",
   "execution_count": 5,
   "metadata": {
    "collapsed": true
   },
   "outputs": [],
   "source": [
    "# Drop any duplicate rows that have been created during merging the two data frames\n",
    "merged = merged.drop_duplicates(subset=['ride_id'])"
   ]
  },
  {
   "cell_type": "code",
   "execution_count": 6,
   "metadata": {
    "collapsed": true
   },
   "outputs": [],
   "source": [
    "# Calculating the average fare and average number of rides per city\n",
    "avg_fare = merged.groupby('city', as_index = False)['fare'].mean()\n",
    "rides_per_city = merged.groupby('city', as_index = False)['ride_id'].count()"
   ]
  },
  {
   "cell_type": "code",
   "execution_count": 7,
   "metadata": {
    "collapsed": true
   },
   "outputs": [],
   "source": [
    "# Creating different dataframes for three different city types\n",
    "\n",
    "urban = merged.loc[merged['type']=='Urban']\n",
    "rural = merged.loc[merged['type']=='Rural']\n",
    "suburban = merged.loc[merged['type']=='Suburban']"
   ]
  },
  {
   "cell_type": "code",
   "execution_count": 8,
   "metadata": {
    "collapsed": true
   },
   "outputs": [],
   "source": [
    "\n",
    "\n",
    "u_drivers = city_df[city_df['type']=='Urban']\n",
    "r_drivers = city_df[city_df['type']=='Rural']\n",
    "s_drivers = city_df[city_df['type']=='Suburban']\n"
   ]
  },
  {
   "cell_type": "code",
   "execution_count": 9,
   "metadata": {
    "collapsed": true
   },
   "outputs": [],
   "source": [
    "# Calculating the average fare for cities in three different city types\n",
    "\n",
    "avg_fare_urban = urban.groupby('city', as_index = False)['fare'].mean()\n",
    "avg_fare_rural = rural.groupby('city', as_index = False)['fare'].mean()\n",
    "avg_fare_suburban = suburban.groupby('city', as_index = False)['fare'].mean()"
   ]
  },
  {
   "cell_type": "code",
   "execution_count": null,
   "metadata": {
    "collapsed": true
   },
   "outputs": [],
   "source": [
    "# Calculating the total number of rides per city for three different city types\n",
    "\n",
    "rides_per_ucity = urban.groupby('city', as_index = False)['ride_id'].count()\n",
    "rides_per_rcity = rural.groupby('city', as_index = False)['ride_id'].count()\n",
    "rides_per_scity = suburban.groupby('city', as_index = False)['ride_id'].count()"
   ]
  },
  {
   "cell_type": "code",
   "execution_count": null,
   "metadata": {
    "collapsed": true
   },
   "outputs": [],
   "source": [
    "# Creating three arrays for ride count and fare for all cities for each of the three city type\n",
    "\n",
    "type1 = pd.merge(rides_per_ucity, avg_fare_urban, on = 'city')\n",
    "type2 = pd.merge(rides_per_rcity, avg_fare_rural, on = 'city')\n",
    "type3 = pd.merge(rides_per_scity, avg_fare_suburban, on = 'city')\n",
    "type3 = type3[type3.ride_id <60] #eliminating the outlier\n",
    "\n",
    "x1 = np.array(type1['ride_id'])\n",
    "y1 = np.array(type1['fare'])\n",
    "\n",
    "x2 = np.array(type2['ride_id'])\n",
    "y2 = np.array(type2['fare'])\n",
    "\n",
    "x3 = np.array(type3['ride_id'])\n",
    "y3 = np.array(type3['fare'])\n",
    "\n",
    "# t1 = (x1, y1)\n",
    "# t2 = (x2, y2)\n",
    "# t3 = (x3, y3)"
   ]
  },
  {
   "cell_type": "code",
   "execution_count": null,
   "metadata": {
    "collapsed": true
   },
   "outputs": [],
   "source": [
    "# Creating three arrays for the total number of driver counts for all cities in three city types\n",
    "\n",
    "drv_cnt_urban = u_drivers['driver_count']\n",
    "drv_cnt_rural = r_drivers['driver_count']\n",
    "drv_cnt_suburban = s_drivers['driver_count']\n",
    "#drv_cnt_urban"
   ]
  },
  {
   "cell_type": "code",
   "execution_count": null,
   "metadata": {
    "collapsed": true
   },
   "outputs": [],
   "source": [
    "#data = (t1, t2, t3)\n",
    "\n",
    "# defining the aesthetics of the scatter plot\n",
    "\n",
    "colors = (\"lightcoral\", \"gold\", \"lightskyblue\")\n",
    "groups = (\"Urban\", \"Rural\", \"Suburban\") \n",
    "size = (drv_cnt_urban,drv_cnt_rural,drv_cnt_suburban)\n",
    "\n",
    "# Create plot\n",
    "fig = plt.figure()\n",
    "ax = fig.add_subplot(1, 1, 1, facecolor=\"lightgrey\")\n",
    "plt.scatter(x1,y1, alpha = 0.75, c = colors[0], edgecolors = 'black', linewidths=1,\n",
    "           s = size[0]*10, label = groups[0])\n",
    "plt.scatter(x2,y2, alpha = 0.75, c = colors[1], edgecolors = 'black', linewidths=1,\n",
    "           s = size[1]*10, label = groups[1])\n",
    "plt.scatter(x3,y3, alpha = 0.75, c = colors[2], edgecolors = 'black', linewidths=1,\n",
    "           s = size[2]*10, label = groups[2])\n",
    " \n",
    "\n",
    "#Defining the labes of the plot    \n",
    "plt.xlabel('Total no of rides (Per City)')\n",
    "plt.ylabel('Average fare ($)')\n",
    "plt.title('Pyber Ride Sharing Data (2016)')\n",
    "txt1 = \"Note:\"\n",
    "txt2 = \"Circle count correlates with driver count per city\"\n",
    "\n",
    "# Defining the legend\n",
    "lgnd = plt.legend(loc ='upper right', title = 'City Types')\n",
    "lgnd.legendHandles[0]._sizes = [30]\n",
    "lgnd.legendHandles[1]._sizes = [30]\n",
    "lgnd.legendHandles[2]._sizes = [30]\n",
    "plt.text(40, 35, txt1, ha='center')\n",
    "plt.text(39, 33, txt2, ha='left')\n",
    "plt.show()\n"
   ]
  },
  {
   "cell_type": "code",
   "execution_count": null,
   "metadata": {
    "collapsed": true
   },
   "outputs": [],
   "source": [
    "#Percent of total fares per city type\n",
    "\n",
    "colors = (\"lightcoral\", \"gold\", \"lightskyblue\")\n",
    "groups = (\"Urban\", \"Rural\", \"Suburban\")"
   ]
  },
  {
   "cell_type": "code",
   "execution_count": null,
   "metadata": {
    "collapsed": true
   },
   "outputs": [],
   "source": [
    "# Calculating the total fare of the rides for each cities\n",
    "total_city_fare_urban = urban.groupby('city', as_index = False)['fare'].sum()\n",
    "total_city_fare_rural = rural.groupby('city', as_index = False)['fare'].sum()\n",
    "total_city_fare_suburban = suburban.groupby('city', as_index = False)['fare'].sum()\n",
    "\n",
    "#Calculating the total fare for the three city type\n",
    "total_fare_urban = total_city_fare_urban['fare'].sum()\n",
    "total_fare_rural = total_city_fare_rural['fare'].sum()\n",
    "total_fare_suburban = total_city_fare_suburban['fare'].sum()\n",
    "\n",
    "#total fare of all city type\n",
    "total_fare = total_fare_urban + total_fare_rural + total_fare_suburban\n",
    "\n",
    "# Calculating the percent of fare for each city type\n",
    "fare_percent_urban = (total_fare_urban/total_fare)*100\n",
    "fare_percent_rural = (total_fare_rural/total_fare)*100\n",
    "fare_percent_suburban = (total_fare_suburban/total_fare)*100\n",
    "\n",
    "# Creating list for the percent fares\n",
    "fare_percent = (fare_percent_urban, fare_percent_rural, fare_percent_suburban) "
   ]
  },
  {
   "cell_type": "code",
   "execution_count": null,
   "metadata": {
    "collapsed": true
   },
   "outputs": [],
   "source": [
    "# Create the plot\n",
    "explode=(0.05,0,0)\n",
    "plt.pie(fare_percent, explode = explode, labels = groups, colors = colors,\n",
    "       autopct = '%1.1f%%', shadow = True, startangle =225)\n",
    "plt.axis('equal')\n",
    "plt.show()"
   ]
  },
  {
   "cell_type": "code",
   "execution_count": null,
   "metadata": {
    "collapsed": true
   },
   "outputs": [],
   "source": [
    "#Percent of total rides per city type\n",
    "\n",
    "# total number of rides for each city type\n",
    "rides_count_urban = urban['ride_id'].count()\n",
    "rides_count_rural = rural['ride_id'].count()\n",
    "rides_count_suburban = suburban['ride_id'].count()\n",
    "\n",
    "# total number of rides\n",
    "total_rides_count = rides_count_urban + rides_count_rural + rides_count_suburban\n",
    "\n",
    "# Calculate the percent of rides for each city type\n",
    "rides_percent_urban = (rides_count_urban/total_rides_count)*100\n",
    "rides_percent_rural = (rides_count_rural/total_rides_count)*100\n",
    "rides_percent_suburban = (rides_count_suburban/total_rides_count)*100\n",
    "\n",
    "#List for percent of rides\n",
    "rides_percent = (rides_percent_urban, rides_percent_rural, rides_percent_suburban)\n",
    "\n"
   ]
  },
  {
   "cell_type": "code",
   "execution_count": null,
   "metadata": {
    "collapsed": true,
    "scrolled": true
   },
   "outputs": [],
   "source": [
    "# create the plot\n",
    "explode=(0.05,0,0)\n",
    "plt.pie(rides_percent, explode = explode, labels = groups, colors = colors,\n",
    "       autopct = '%1.1f%%', shadow = True, startangle =225)\n",
    "plt.axis('equal')\n",
    "plt.show()"
   ]
  },
  {
   "cell_type": "code",
   "execution_count": null,
   "metadata": {
    "collapsed": true
   },
   "outputs": [],
   "source": [
    "#Percent of total drivers per city type"
   ]
  },
  {
   "cell_type": "code",
   "execution_count": null,
   "metadata": {
    "collapsed": true
   },
   "outputs": [],
   "source": [
    "#Toatl number of urban drivers\n",
    "urban_city = city_df[city_df['type']=='Urban']\n",
    "u_drv_cnt = urban_city['driver_count'].sum()\n",
    "\n",
    "#Toatl number of rural drivers\n",
    "rural_city = city_df[city_df['type']=='Rural']\n",
    "r_drv_cnt = rural_city['driver_count'].sum()\n",
    "\n",
    "#Toatl number of suburban drivers\n",
    "suburban_city = city_df[city_df['type']=='Suburban']\n",
    "s_drv_cnt = suburban_city['driver_count'].sum()\n",
    "\n",
    "# Total number of drivers \n",
    "total_drivers = (u_drv_cnt + r_drv_cnt + s_drv_cnt)\n",
    "\n",
    "# Calculating the drivers percent per city type\n",
    "u_drv_pcnt = (u_drv_cnt/total_drivers)*100\n",
    "r_drv_pcnt = (r_drv_cnt/total_drivers)*100\n",
    "s_drv_pcnt = (s_drv_cnt/total_drivers)*100\n",
    "\n",
    "#creating list for array percent\n",
    "drivers_percent = (u_drv_pcnt, r_drv_pcnt, s_drv_pcnt)\n"
   ]
  },
  {
   "cell_type": "code",
   "execution_count": null,
   "metadata": {
    "collapsed": true
   },
   "outputs": [],
   "source": [
    "#Create the plot\n",
    "explode=(0.05,0,0)\n",
    "plt.pie(drivers_percent, explode = explode, labels = groups, colors = colors,\n",
    "       autopct = '%1.1f%%', shadow = True, startangle =225)\n",
    "plt.axis('equal')\n",
    "plt.show()"
   ]
  },
  {
   "cell_type": "code",
   "execution_count": null,
   "metadata": {
    "collapsed": true
   },
   "outputs": [],
   "source": []
  }
 ],
 "metadata": {
  "kernelspec": {
   "display_name": "Python 3",
   "language": "python",
   "name": "python3"
  },
  "language_info": {
   "codemirror_mode": {
    "name": "ipython",
    "version": 3
   },
   "file_extension": ".py",
   "mimetype": "text/x-python",
   "name": "python",
   "nbconvert_exporter": "python",
   "pygments_lexer": "ipython3",
   "version": "3.6.1"
  }
 },
 "nbformat": 4,
 "nbformat_minor": 2
}
